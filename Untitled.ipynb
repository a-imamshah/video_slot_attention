{
 "cells": [
  {
   "cell_type": "code",
   "execution_count": 1,
   "metadata": {},
   "outputs": [],
   "source": [
    "from typing import Optional\n",
    "\n",
    "import json\n",
    "import os\n",
    "from typing import Callable\n",
    "from typing import List\n",
    "from typing import Optional\n",
    "from typing import Tuple\n",
    "\n",
    "from torchvision import transforms\n",
    "\n",
    "from data import CLEVRDataModule\n",
    "from method import SlotAttentionMethod\n",
    "from model import SlotAttentionModel\n",
    "from params import SlotAttentionParams\n",
    "from utils import ImageLogCallback\n",
    "from utils import rescale\n",
    "\n",
    "import pytorch_lightning as pl\n",
    "from PIL import Image\n",
    "from torch.utils.data import DataLoader\n",
    "from torch.utils.data import Dataset\n",
    "from torchvision.transforms import transforms\n",
    "\n",
    "import torch\n",
    "import torchvision\n",
    "import numpy as np\n",
    "\n",
    "import torch\n",
    "from torch import optim\n",
    "from torchvision import utils as vutils\n",
    "\n",
    "from model import SlotAttentionModel\n",
    "from params import SlotAttentionParams\n",
    "from utils import Tensor\n",
    "from utils import to_rgb_from_tensor\n",
    "\n",
    "class SyntheticDataset(Dataset):\n",
    "    def __init__(self,\n",
    "        data_root: str,\n",
    "        max_num_images: Optional[int],\n",
    "        clevr_transforms: Callable,\n",
    "        split: str = \"train\", #mode\n",
    "        n_steps=10, \n",
    "        dataset_class='vmds', \n",
    "        T=0): #transforms, path\n",
    "\n",
    "        assert dataset_class in ['vmds', 'vor', 'spmot']\n",
    "        self.clevr_transforms = clevr_transforms\n",
    "        #self.split_dict = {\"train\":\"train2017\", \"val\":\"val2017\", \"test\":\"test2017\"}\n",
    "        self.data_root = data_root\n",
    "        self.split = split\n",
    "        \n",
    "\n",
    "        \n",
    "        imgs = np.load(os.path.join(data_root, dataset_class, '{}_{}.npy'.format(dataset_class, split)))\n",
    "        imgs = imgs[:, :n_steps]\n",
    "        imgs = imgs[0:max_num_images,:,:,:,:]\n",
    "        if T and T < n_steps:\n",
    "            imgs = np.concatenate(np.split(imgs, imgs.shape[1]//T, axis=1))\n",
    "        self.imgs = imgs\n",
    "        #self.imgs = [img for img in imgs]\n",
    "        self.num_samples = self.imgs.shape[0]\n",
    "\n",
    "\n",
    "    def __getitem__(self, index):\n",
    "        x = self.imgs[index]\n",
    "        fr, ch, imx, imy = x.shape\n",
    "        x = torch.stack([transforms.ToTensor()(x[i]) for i in range(fr)])\n",
    "        x = x.permute(0,2,1,3)\n",
    "        return x\n",
    "\n",
    "    def __len__(self):\n",
    "        return self.num_samples"
   ]
  },
  {
   "cell_type": "code",
   "execution_count": 2,
   "metadata": {},
   "outputs": [
    {
     "name": "stdout",
     "output_type": "stream",
     "text": [
      "INFO: limiting the dataset to only images with `num_slots - 1` (9) objects.\n",
      "INFO: restricting the train dataset size to `num_train_images`: 54\n",
      "INFO: restricting the validation dataset size to `num_val_images`: 24\n"
     ]
    }
   ],
   "source": [
    "import matplotlib.pyplot as plt\n",
    "\n",
    "params = SlotAttentionParams()\n",
    "\n",
    "assert params.num_slots > 1, \"Must have at least 2 slots.\"\n",
    "\n",
    "if params.is_verbose:\n",
    "    print(f\"INFO: limiting the dataset to only images with `num_slots - 1` ({params.num_slots - 1}) objects.\")\n",
    "    if params.num_train_images:\n",
    "        print(f\"INFO: restricting the train dataset size to `num_train_images`: {params.num_train_images}\")\n",
    "    if params.num_val_images:\n",
    "        print(f\"INFO: restricting the validation dataset size to `num_val_images`: {params.num_val_images}\")\n",
    "\n",
    "clevr_transforms = transforms.Compose(\n",
    "    [\n",
    "        transforms.ToTensor(),\n",
    "        #transforms.Lambda(rescale),  # rescale between -1 and 1\n",
    "        #transforms.Resize(params.resolution),\n",
    "    ]\n",
    ")\n",
    "\n",
    "train_dataset = SyntheticDataset(\n",
    "        data_root=params.data_root,\n",
    "        max_num_images=params.num_train_images,\n",
    "        clevr_transforms=clevr_transforms,\n",
    "        split=\"train\",\n",
    "        n_steps = params.n_steps,\n",
    "        dataset_class=params.dataset_class, \n",
    "        T=params.T\n",
    "      )\n",
    "\n",
    "bs = 4\n",
    "\n",
    "dl= DataLoader(\n",
    "        train_dataset,\n",
    "        batch_size=bs,\n",
    "        shuffle=True,\n",
    "        num_workers=params.num_workers)\n",
    "\n",
    "\n",
    "# for (idx, batch) in enumerate(dl):\n",
    "#     print(idx)\n",
    "#     print(batch.shape)\n",
    "\n",
    "# print(len(dl))\n",
    "\n",
    "# perm = torch.randperm(bs)\n",
    "# idx = perm[: params.n_samples]\n",
    "# batch = next(iter(dl))[idx]\n",
    "# if params.gpus > 0:\n",
    "#     batch = batch.cuda()\n",
    "\n",
    "# out = to_rgb_from_tensor(\n",
    "#         torch.cat(\n",
    "#             [\n",
    "#                 batch.unsqueeze(1),  # original images\n",
    "#             ],\n",
    "#             dim=1,\n",
    "#         )\n",
    "#     )\n",
    "\n",
    "# batch_size, num_slots, frames, C, H, W = out.shape\n",
    "# out = out[:,:,:,:,:,:]\n",
    "# print(out.shape)\n",
    "# #images = vutils.make_grid(out.reshape(out.shape[0] * out.shape[1], C, H, W).cpu(), normalize=False, nrow=out.shape[1],)\n",
    "\n"
   ]
  },
  {
   "cell_type": "code",
   "execution_count": 3,
   "metadata": {},
   "outputs": [
    {
     "data": {
      "text/plain": [
       "torch.Size([4, 5, 3, 64, 64])"
      ]
     },
     "execution_count": 3,
     "metadata": {},
     "output_type": "execute_result"
    }
   ],
   "source": [
    "batch = next(iter(dl))\n",
    "batch.shape"
   ]
  },
  {
   "cell_type": "code",
   "execution_count": 13,
   "metadata": {},
   "outputs": [
    {
     "data": {
      "text/plain": [
       "<matplotlib.image.AxesImage at 0x2b68676b37c0>"
      ]
     },
     "execution_count": 13,
     "metadata": {},
     "output_type": "execute_result"
    },
    {
     "data": {
      "image/png": "[encoded data removed]",
      "text/plain": [
       "<Figure size 432x288 with 1 Axes>"
      ]
     },
     "metadata": {
      "needs_background": "light"
     },
     "output_type": "display_data"
    }
   ],
   "source": [
    "single_img = batch[3,4,:,:,:]\n",
    "single_img = single_img.permute(1,2,0)\n",
    "plt.imshow(single_img)"
   ]
  },
  {
   "cell_type": "code",
   "execution_count": 139,
   "metadata": {},
   "outputs": [
    {
     "data": {
      "text/plain": [
       "tensor([[[0., 0., 0.,  ..., 0., 0., 0.],\n",
       "         [0., 0., 0.,  ..., 0., 0., 0.],\n",
       "         [0., 0., 0.,  ..., 0., 0., 0.],\n",
       "         ...,\n",
       "         [0., 0., 0.,  ..., 0., 0., 0.],\n",
       "         [0., 0., 0.,  ..., 0., 0., 0.],\n",
       "         [0., 0., 0.,  ..., 0., 0., 0.]],\n",
       "\n",
       "        [[0., 0., 0.,  ..., 0., 0., 0.],\n",
       "         [0., 0., 0.,  ..., 0., 0., 0.],\n",
       "         [0., 0., 0.,  ..., 0., 0., 0.],\n",
       "         ...,\n",
       "         [0., 0., 0.,  ..., 0., 0., 0.],\n",
       "         [0., 0., 0.,  ..., 0., 0., 0.],\n",
       "         [0., 0., 0.,  ..., 0., 0., 0.]],\n",
       "\n",
       "        [[0., 0., 0.,  ..., 0., 0., 0.],\n",
       "         [0., 0., 0.,  ..., 0., 0., 0.],\n",
       "         [0., 0., 0.,  ..., 0., 0., 0.],\n",
       "         ...,\n",
       "         [0., 0., 0.,  ..., 0., 0., 0.],\n",
       "         [0., 0., 0.,  ..., 0., 0., 0.],\n",
       "         [0., 0., 0.,  ..., 0., 0., 0.]]])"
      ]
     },
     "execution_count": 139,
     "metadata": {},
     "output_type": "execute_result"
    }
   ],
   "source": [
    "batch[0,0]"
   ]
  },
  {
   "cell_type": "code",
   "execution_count": 76,
   "metadata": {},
   "outputs": [],
   "source": [
    "data_root = \"/kuacc/users/ashah20/object-centric-representation-benchmark/ocrb/data/datasets/\"\n",
    "dataset_class = \"vmds\"\n",
    "split = \"train\"\n",
    "images = np.load(os.path.join(data_root, dataset_class, '{}_{}.npy'.format(dataset_class, split)))"
   ]
  },
  {
   "cell_type": "code",
   "execution_count": 77,
   "metadata": {},
   "outputs": [
    {
     "data": {
      "text/plain": [
       "(48, 5, 3, 64, 64)"
      ]
     },
     "execution_count": 77,
     "metadata": {},
     "output_type": "execute_result"
    }
   ],
   "source": [
    "imgs.shape"
   ]
  },
  {
   "cell_type": "code",
   "execution_count": 78,
   "metadata": {},
   "outputs": [
    {
     "data": {
      "text/plain": [
       "<matplotlib.image.AxesImage at 0x2af29f191fd0>"
      ]
     },
     "execution_count": 78,
     "metadata": {},
     "output_type": "execute_result"
    },
    {
     "data": {
      "image/png": "[encoded data removed]",
      "text/plain": [
       "<Figure size 432x288 with 1 Axes>"
      ]
     },
     "metadata": {
      "needs_background": "light"
     },
     "output_type": "display_data"
    }
   ],
   "source": [
    "single_img = images[1000,4,:,:,:]\n",
    "single_img = single_img.transpose(1,2,0)\n",
    "plt.imshow(single_img)"
   ]
  },
  {
   "cell_type": "code",
   "execution_count": 79,
   "metadata": {},
   "outputs": [],
   "source": [
    "n_steps = 10\n",
    "T = 5\n",
    "max_num_images = 48\n",
    "imgs = images[:, :n_steps]\n",
    "imgs = imgs[0:max_num_images,:,:,:,:]\n",
    "if T and T < n_steps:\n",
    "    imgs = np.concatenate(np.split(imgs, imgs.shape[1]//T, axis=1))\n",
    "imgs = imgs"
   ]
  },
  {
   "cell_type": "code",
   "execution_count": 80,
   "metadata": {},
   "outputs": [
    {
     "data": {
      "text/plain": [
       "(96, 5, 3, 64, 64)"
      ]
     },
     "execution_count": 80,
     "metadata": {},
     "output_type": "execute_result"
    }
   ],
   "source": [
    "imgs.shape"
   ]
  },
  {
   "cell_type": "code",
   "execution_count": 156,
   "metadata": {},
   "outputs": [
    {
     "data": {
      "text/plain": [
       "<matplotlib.image.AxesImage at 0x2af29fdc6dc0>"
      ]
     },
     "execution_count": 156,
     "metadata": {},
     "output_type": "execute_result"
    },
    {
     "data": {
      "image/png": "[encoded data removed]",
      "text/plain": [
       "<Figure size 432x288 with 1 Axes>"
      ]
     },
     "metadata": {
      "needs_background": "light"
     },
     "output_type": "display_data"
    }
   ],
   "source": [
    "single_img = imgs[0,0,:,:,:]\n",
    "single_img = single_img.transpose(1,2,0)\n",
    "plt.imshow(single_img)"
   ]
  },
  {
   "cell_type": "code",
   "execution_count": 108,
   "metadata": {},
   "outputs": [
    {
     "name": "stdout",
     "output_type": "stream",
     "text": [
      "torch.Size([5, 64, 3, 64])\n"
     ]
    }
   ],
   "source": [
    "x = imgs[0]\n",
    "fr, ch, imx, imy = x.shape\n",
    "x = torch.stack([transforms.ToTensor()(x[i]) for i in range(fr)])\n",
    "print(x.shape)"
   ]
  },
  {
   "cell_type": "code",
   "execution_count": 106,
   "metadata": {},
   "outputs": [
    {
     "data": {
      "text/plain": [
       "5"
      ]
     },
     "execution_count": 106,
     "metadata": {},
     "output_type": "execute_result"
    }
   ],
   "source": [
    "len(x)"
   ]
  },
  {
   "cell_type": "code",
   "execution_count": 107,
   "metadata": {},
   "outputs": [
    {
     "data": {
      "text/plain": [
       "torch.Size([64, 3, 64])"
      ]
     },
     "execution_count": 107,
     "metadata": {},
     "output_type": "execute_result"
    }
   ],
   "source": [
    "x[0].shape"
   ]
  },
  {
   "cell_type": "code",
   "execution_count": null,
   "metadata": {},
   "outputs": [],
   "source": []
  },
  {
   "cell_type": "code",
   "execution_count": null,
   "metadata": {},
   "outputs": [],
   "source": [
    "torch.stack([transforms.ToTensor(x[i]) for i in range(fr)])"
   ]
  },
  {
   "cell_type": "code",
   "execution_count": 127,
   "metadata": {},
   "outputs": [
    {
     "data": {
      "text/plain": [
       "torch.Size([1, 5, 3, 64, 64])"
      ]
     },
     "execution_count": 127,
     "metadata": {},
     "output_type": "execute_result"
    }
   ],
   "source": [
    "batch.shape"
   ]
  },
  {
   "cell_type": "code",
   "execution_count": 122,
   "metadata": {},
   "outputs": [
    {
     "data": {
      "text/plain": [
       "tensor(0.0071)"
      ]
     },
     "execution_count": 122,
     "metadata": {},
     "output_type": "execute_result"
    }
   ],
   "source": [
    "batch.mean()"
   ]
  },
  {
   "cell_type": "code",
   "execution_count": null,
   "metadata": {},
   "outputs": [],
   "source": []
  }
 ],
 "metadata": {
  "kernelspec": {
   "display_name": "slot",
   "language": "python",
   "name": "slot"
  },
  "language_info": {
   "codemirror_mode": {
    "name": "ipython",
    "version": 3
   },
   "file_extension": ".py",
   "mimetype": "text/x-python",
   "name": "python",
   "nbconvert_exporter": "python",
   "pygments_lexer": "ipython3",
   "version": "3.8.5"
  }
 },
 "nbformat": 4,
 "nbformat_minor": 2
}
